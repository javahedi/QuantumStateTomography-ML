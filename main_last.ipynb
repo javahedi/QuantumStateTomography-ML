{
  "nbformat": 4,
  "nbformat_minor": 0,
  "metadata": {
    "colab": {
      "provenance": [],
      "gpuType": "T4",
      "authorship_tag": "ABX9TyN3iFqNOZQZ04DF7vme51XX",
      "include_colab_link": true
    },
    "kernelspec": {
      "name": "python3",
      "display_name": "Python 3"
    },
    "language_info": {
      "name": "python"
    },
    "accelerator": "GPU"
  },
  "cells": [
    {
      "cell_type": "markdown",
      "metadata": {
        "id": "view-in-github",
        "colab_type": "text"
      },
      "source": [
        "<a href=\"https://colab.research.google.com/github/javahedi/QuantumStateTomography-ML/blob/main/main_last.ipynb\" target=\"_parent\"><img src=\"https://colab.research.google.com/assets/colab-badge.svg\" alt=\"Open In Colab\"/></a>"
      ]
    },
    {
      "cell_type": "code",
      "execution_count": 102,
      "metadata": {
        "id": "kxDb3R0SeXcm"
      },
      "outputs": [],
      "source": [
        "import tensorflow as tf\n",
        "from tensorflow.keras.models import Sequential, Model\n",
        "from tensorflow.keras.layers import Dense\n",
        "from tensorflow.keras.callbacks import EarlyStopping, ModelCheckpoint\n",
        "from sklearn.model_selection import train_test_split\n",
        "import numpy as np\n",
        "import matplotlib.pyplot as plt\n",
        "from google.colab import drive\n",
        "import os\n",
        "import glob"
      ]
    },
    {
      "cell_type": "code",
      "source": [
        "# Check available devices\n",
        "devices = tf.config.experimental.list_physical_devices('GPU')  # Check for GPU\n",
        "if devices:\n",
        "    print(\"Using GPU\")\n",
        "    tf.config.experimental.set_visible_devices(devices[0], 'GPU')  # Use the first GPU\n",
        "else:\n",
        "    print(\"Using CPU\")"
      ],
      "metadata": {
        "colab": {
          "base_uri": "https://localhost:8080/"
        },
        "id": "f0SqsQymUO_D",
        "outputId": "c6f820ab-7f66-46e4-879e-5137fa5e387c"
      },
      "execution_count": 103,
      "outputs": [
        {
          "output_type": "stream",
          "name": "stdout",
          "text": [
            "Using GPU\n"
          ]
        }
      ]
    },
    {
      "cell_type": "code",
      "source": [
        "drive.mount('/content/drive', force_remount=True)"
      ],
      "metadata": {
        "colab": {
          "base_uri": "https://localhost:8080/"
        },
        "id": "jwIg-EsRe2W2",
        "outputId": "c7c9778d-811e-44ef-a616-00db644eac6e"
      },
      "execution_count": 104,
      "outputs": [
        {
          "output_type": "stream",
          "name": "stdout",
          "text": [
            "Mounted at /content/drive\n"
          ]
        }
      ]
    },
    {
      "cell_type": "code",
      "source": [
        "path         = \"/content/drive/MyDrive/SL_data/\"\n",
        "cvs_names    = glob.glob(f'{path}*.csv')\n",
        "bank_names   = glob.glob(f'{path}*bank.npy')\n",
        "weight_names = glob.glob(f'{path}*weights.npy')\n",
        "\n",
        "angles_list  = []\n",
        "banks_list   = []\n",
        "weights_list = []\n",
        "for id, name in enumerate(cvs_names):\n",
        "    data    = np.loadtxt( os.path.join(path,cvs_names[id]),delimiter=',',skiprows=1)\n",
        "    bank    = np.load(bank_names[id],mmap_mode=\"r\")\n",
        "    weights = np.load(weight_names[id],mmap_mode=\"r\")\n",
        "\n",
        "    angles_list.append(data)\n",
        "    banks_list.append(bank[1:])\n",
        "    weights_list.append(weights[1:])\n",
        "\n",
        "\n",
        "angles_data   = np.stack(angles_list)\n",
        "banks_data    = np.stack(banks_list)\n",
        "weights_data  = np.stack(weights_list)\n",
        "\n",
        "angles_data[:,:,0] = np.sin(angles_data[:,:,0])\n",
        "angles_data[:,:,1] = np.sin(angles_data[:,:,1]/4.0)\n",
        "\n",
        "angles_data[:,:,-2] = np.sin(angles_data[:,:,-2])\n",
        "angles_data[:,:,-1] = np.sin(angles_data[:,:,-1]/4.0)\n",
        "\n",
        "\n",
        "print(angles_data.shape)\n",
        "print(banks_data.shape)\n",
        "print(weights_data.shape)"
      ],
      "metadata": {
        "colab": {
          "base_uri": "https://localhost:8080/"
        },
        "id": "cVlec5RZyM52",
        "outputId": "8c0160dd-9091-4532-a78d-5fcc0100d2d1"
      },
      "execution_count": 105,
      "outputs": [
        {
          "output_type": "stream",
          "name": "stdout",
          "text": [
            "(1000, 99, 5)\n",
            "(1000, 99, 100, 2, 2)\n",
            "(1000, 99, 100)\n"
          ]
        }
      ]
    },
    {
      "cell_type": "code",
      "source": [
        "X,y=angles_data[:,:,:3],angles_data[:,:,3:]"
      ],
      "metadata": {
        "id": "cX6fJyise5MY"
      },
      "execution_count": 106,
      "outputs": []
    },
    {
      "cell_type": "code",
      "source": [
        "plt.plot(X[1,:,0],'o-r',label='sin(theta)')\n",
        "plt.plot(X[1,:,1],'x-b',label='sin(phi/4)')\n",
        "plt.plot(X[1,:,2],'s-k',label='p_up')\n",
        "plt.legend()\n",
        "plt.show()"
      ],
      "metadata": {
        "colab": {
          "base_uri": "https://localhost:8080/",
          "height": 430
        },
        "id": "rjzlFNyPe5I7",
        "outputId": "a18dfa1e-04a3-4570-e371-1c32e9038f82"
      },
      "execution_count": 107,
      "outputs": [
        {
          "output_type": "display_data",
          "data": {
            "text/plain": [
              "<Figure size 640x480 with 1 Axes>"
            ],
            "image/png": "[encoded data removed]"
          },
          "metadata": {}
        }
      ]
    },
    {
      "cell_type": "code",
      "source": [
        "valid_split = 0.2\n",
        "\n",
        "num_valid_samples = int(angles_data.shape[0] * valid_split)\n",
        "\n",
        "# Split the data into training and validation sets\n",
        "train_data_angles  = angles_data[:-num_valid_samples]\n",
        "train_data_banks   = banks_data[:-num_valid_samples]\n",
        "train_data_weights = weights_data[:-num_valid_samples]\n",
        "\n",
        "valid_data_angles  = angles_data[-num_valid_samples:]\n",
        "valid_data_banks   = banks_data[-num_valid_samples:]\n",
        "valid_data_weights = weights_data[-num_valid_samples:]"
      ],
      "metadata": {
        "id": "swMijpdDm_QA"
      },
      "execution_count": 108,
      "outputs": []
    },
    {
      "cell_type": "code",
      "source": [
        "train_data_angles.shape"
      ],
      "metadata": {
        "colab": {
          "base_uri": "https://localhost:8080/"
        },
        "id": "XLgHyopQBOaw",
        "outputId": "86c9046f-bcbf-4340-f09b-aef0ff7a7e43"
      },
      "execution_count": 109,
      "outputs": [
        {
          "output_type": "execute_result",
          "data": {
            "text/plain": [
              "(800, 99, 5)"
            ]
          },
          "metadata": {},
          "execution_count": 109
        }
      ]
    },
    {
      "cell_type": "code",
      "source": [
        "# Set batch size\n",
        "batch_size = 64\n",
        "\n",
        "# TensorFlow datasets API\n",
        "train_dataset = tf.data.Dataset.from_tensor_slices((train_data_angles, train_data_banks, train_data_weights)).batch(batch_size, drop_remainder=True)\n",
        "valid_dataset = tf.data.Dataset.from_tensor_slices((valid_data_angles, valid_data_banks, valid_data_weights)).batch(batch_size, drop_remainder=True)\n"
      ],
      "metadata": {
        "id": "r7oR6Vm7m4H-"
      },
      "execution_count": 110,
      "outputs": []
    },
    {
      "cell_type": "code",
      "source": [
        "#Get the size of the dataset\n",
        "dataset_size = tf.data.experimental.cardinality(train_dataset).numpy()\n",
        "\n",
        "# Print the size of the dataset\n",
        "print(\"Dataset Size:\", dataset_size)\n",
        "\n",
        "total_data_points = dataset_size * batch_size\n",
        "print(\"Total Data Points:\", total_data_points)"
      ],
      "metadata": {
        "colab": {
          "base_uri": "https://localhost:8080/"
        },
        "id": "6CK-3xNJBUSR",
        "outputId": "9c086cef-33e5-43b6-bcd9-9c71a8eb851f"
      },
      "execution_count": 111,
      "outputs": [
        {
          "output_type": "stream",
          "name": "stdout",
          "text": [
            "Dataset Size: 12\n",
            "Total Data Points: 768\n"
          ]
        }
      ]
    },
    {
      "cell_type": "code",
      "source": [
        "\n",
        "# Custom Self-Attention Layer\n",
        "class SelfAttention(tf.keras.layers.Layer):\n",
        "    '''\n",
        "      arXiv:1706.03762v7   ---> Scaled Dot-Product Attention\n",
        "      Input Shape: (batch_size, sequence_length, feature_dim)\n",
        "\n",
        "      batch_size     : The number of samples in each batch.\n",
        "      sequence_length: The length of the sequence in each sample.\n",
        "      feature_dim    : The number of features in each element of the sequence.\n",
        "\n",
        "      Output Shape: (batch_size, sequence_length, feature_dim)\n",
        "\n",
        "          The output preserves the same structure as the input.\n",
        "          For each element in the sequence, the self-attention mechanism computes a\n",
        "          weighted sum of all elements in the sequence based on their relationships,\n",
        "          and the output at each position is a combination of these weighted sums.\n",
        "    '''\n",
        "\n",
        "    def __init__(self, **kwargs):\n",
        "        super(SelfAttention, self).__init__(**kwargs)\n",
        "\n",
        "    def build(self, input_shape):\n",
        "        self.w_q = self.add_weight(name=\"w_q\", shape=(input_shape[-1], input_shape[-1]), initializer=\"uniform\", trainable=True)\n",
        "        self.w_k = self.add_weight(name=\"w_k\", shape=(input_shape[-1], input_shape[-1]), initializer=\"uniform\", trainable=True)\n",
        "        super(SelfAttention, self).build(input_shape)\n",
        "\n",
        "    def call(self, x):\n",
        "        q = tf.matmul(x, self.w_q)\n",
        "        k = tf.matmul(x, self.w_k)\n",
        "        v = x\n",
        "        attention_scores = tf.matmul(q, k, transpose_b=True)\n",
        "        attention_scores = tf.nn.softmax(attention_scores, axis=-1)\n",
        "        output = tf.matmul(attention_scores, v)\n",
        "        return output"
      ],
      "metadata": {
        "id": "_0RO0rSVe5Fg"
      },
      "execution_count": 112,
      "outputs": []
    },
    {
      "cell_type": "code",
      "source": [
        "\n",
        "class InfoGain_vectorized(tf.Module):\n",
        "    def __init__(self):\n",
        "        super(InfoGain_vectorized, self).__init__()\n",
        "\n",
        "    def information_gain(self, angles, bank_particles, weights):\n",
        "        result = tf.numpy_function(self.information_gain_py, [angles, bank_particles, weights], tf.float64)\n",
        "        return tf.convert_to_tensor(result, dtype=tf.float64)\n",
        "\n",
        "    def information_gain_py(self, angles,bank_particles,weights):\n",
        "\n",
        "        best_guess=np.array(np.einsum('ijkl,ij->ikl',bank_particles,weights))\n",
        "        return self.adaptive_cost_func(angles,bank_particles,weights,best_guess)\n",
        "\n",
        "    def adaptive_cost_func(self, angles,rhoBank,weights,bestGuess):\n",
        "\n",
        "        # Crates projector from angles\n",
        "        povm=self.angles_to_single_qubit_POVM(angles)\n",
        "        # Computes the entropy of prior and posterior distributions. See 10.1103/PhysRevA.85.052120 for more details.\n",
        "        K=self.Shannon_entropy(np.einsum('nijk,nkj->ni',povm,bestGuess))\n",
        "        J=self.Shannon_entropy(np.einsum('nijk,nlkj->nil',povm,rhoBank))\n",
        "        # Returns the negative values such that it becomes a minimization problem rather than maximization problem.\n",
        "        return np.real(K-np.einsum(\"ij,ij->i\",J,weights))\n",
        "\n",
        "    #def Shannon_entropy(self, prob):\n",
        "    #    return np.real(np.sum(-(prob*np.log2(prob)),axis=1))\n",
        "\n",
        "    def Shannon_entropy(self, prob):\n",
        "        epsilon = 1e-10  # Small epsilon value to avoid division by zero\n",
        "        prob    = np.maximum(prob, epsilon)  # Replace zeros with epsilon\n",
        "        return np.real(np.sum(-(prob * np.log2(prob)), axis=1))\n",
        "\n",
        "    def angles_to_single_qubit_POVM(self, angles):\n",
        "        \"\"\"\n",
        "        Function is now vectorized in 0th index.\n",
        "        Takes in measurement angles as dictionaries and returns the spin POVM as 2x2x2 complex array .\n",
        "        For single qubit only.\n",
        "        \"\"\"\n",
        "        up_state_vector=np.array([np.cos(angles[:,0]/2),np.exp(1j*angles[:,1])*np.sin(angles[:,0]/2)],dtype=complex)\n",
        "        up_POVM=np.einsum(\"in,jn->nij\",up_state_vector,up_state_vector.conj())\n",
        "        return np.einsum('injk->nijk',np.array([up_POVM[:],np.eye(2)-up_POVM[:]],dtype=complex))"
      ],
      "metadata": {
        "id": "kjpJb7lTx6Xk"
      },
      "execution_count": 113,
      "outputs": []
    },
    {
      "cell_type": "code",
      "source": [
        "def custom_loss(y_true, y_pred, bank_particles, weights, lambda_weight=1.0, replace_inf_value=100):\n",
        "\n",
        "    info_gain = InfoGain_vectorized()\n",
        "\n",
        "    mse_target = tf.keras.losses.mean_squared_error(y_true, y_pred)\n",
        "\n",
        "    true_info_gains = [info_gain.information_gain(y_true[:, i, :], bank_particles[:, i, ...], weights[:, i]) for i in range(y_true.shape[1])]\n",
        "    pred_info_gains = [info_gain.information_gain(y_pred[:, i, :], bank_particles[:, i, ...], weights[:, i]) for i in range(y_true.shape[1])]\n",
        "\n",
        "    true_info_gains = tf.convert_to_tensor(true_info_gains, dtype=tf.float64)\n",
        "    pred_info_gains = tf.convert_to_tensor(pred_info_gains, dtype=tf.float64)\n",
        "\n",
        "\n",
        "    loss_infoGain = 1e4 * tf.math.abs(pred_info_gains - true_info_gains)\n",
        "    # Check for infinity in the total_loss tensor\n",
        "    loss_infoGain = tf.where(tf.math.is_finite(loss_infoGain), loss_infoGain, replace_inf_value)\n",
        "\n",
        "    total_loss = (1.0 - lambda_weight) * tf.reduce_mean(mse_target) + lambda_weight * tf.reduce_mean(loss_infoGain)\n",
        "\n",
        "    return total_loss\n",
        "\n"
      ],
      "metadata": {
        "id": "IoPgXbUzk964"
      },
      "execution_count": 114,
      "outputs": []
    },
    {
      "cell_type": "code",
      "source": [
        "info_gain = InfoGain_vectorized()\n",
        "\n",
        "#tf.random.set_seed(42)\n",
        "for batch_angles, batch_banks, batch_weights in train_dataset.take(1):\n",
        "      # Separate input (X) and true labels (y)\n",
        "      y_true = batch_angles[:, :, :2]\n",
        "\n",
        "\n",
        "# Training dataset\n",
        "for batch_index, (batch_angles, batch_banks, batch_weights) in enumerate(train_dataset):\n",
        "      #print(f\"Batch Index: {batch_index}\")\n",
        "      # Separate input (X) and true labels (y)\n",
        "      y_pred = batch_angles[:, :, :2]\n",
        "\n",
        "      #noise  = tf.random.normal(shape=tf.shape(y_true), mean=5.0, stddev=0.1, dtype=tf.float64)\n",
        "      #y_pred = y_true + noise\n",
        "      mse    = tf.keras.losses.mean_squared_error(y_true, y_pred)\n",
        "\n",
        "\n",
        "      true_info_gains = [info_gain.information_gain(y_true[:, i, :], batch_banks[:, i, ...], batch_weights[:, i]) for i in range(y_true.shape[1])]\n",
        "      pred_info_gains = [info_gain.information_gain(y_pred[:, i, :], batch_banks[:, i, ...], batch_weights[:, i]) for i in range(y_true.shape[1])]\n",
        "\n",
        "      true_info_gains = tf.convert_to_tensor(true_info_gains, dtype=tf.float64)\n",
        "      pred_info_gains = tf.convert_to_tensor(pred_info_gains, dtype=tf.float64)\n",
        "\n",
        "\n",
        "\n",
        "      loss_infoGain_v1 =  tf.math.log(pred_info_gains / true_info_gains)\n",
        "      loss_infoGain_v2 = 1e4 * tf.math.abs(pred_info_gains - true_info_gains)\n",
        "      loss_infoGain_v3 = 1e5 * pred_info_gains**2 - true_info_gains**2\n",
        "\n",
        "      # Check for infinity in the total_loss tensor\n",
        "      #loss_infoGain = tf.where(tf.math.is_finite(loss_infoGain), loss_infoGain, 100)\n",
        "      #print(tf.shape(true_info_gains),' ',tf.shape(loss_infoGain))\n",
        "      print(f'{batch_index}, {tf.reduce_mean(mse).numpy():3.4f}', ' ### ',\n",
        "            f'{tf.reduce_mean(loss_infoGain_v1).numpy():2.6f}', ' ### ',\n",
        "            f'{tf.reduce_mean(loss_infoGain_v2).numpy():2.6f}', ' ### ',\n",
        "            f'{tf.reduce_mean(loss_infoGain_v3).numpy():2.6f}')\n",
        "\n",
        "\n",
        "\n"
      ],
      "metadata": {
        "colab": {
          "base_uri": "https://localhost:8080/"
        },
        "id": "Ny2bA5DuMQHA",
        "outputId": "44917888-df13-4a00-a44b-56bca36d9ee5"
      },
      "execution_count": 115,
      "outputs": [
        {
          "output_type": "stream",
          "name": "stdout",
          "text": [
            "0, 0.0000  ###  0.000000  ###  0.000000  ###  0.159300\n",
            "1, 0.2382  ###  0.017100  ###  0.451527  ###  0.154807\n",
            "2, 0.2357  ###  0.009897  ###  0.433843  ###  0.168023\n",
            "3, 0.2343  ###  0.010725  ###  0.419749  ###  0.163509\n",
            "4, 0.2336  ###  0.011202  ###  0.427121  ###  0.176404\n",
            "5, 0.2364  ###  0.009288  ###  0.452669  ###  0.173871\n",
            "6, 0.2517  ###  0.017470  ###  0.495115  ###  0.158257\n",
            "7, 0.2533  ###  0.011998  ###  0.509910  ###  0.176284\n",
            "8, 0.2436  ###  0.011129  ###  0.440363  ###  0.167799\n",
            "9, 0.2287  ###  0.010087  ###  0.453298  ###  0.175711\n",
            "10, 0.2503  ###  0.015667  ###  0.437038  ###  0.169825\n",
            "11, 0.2404  ###  0.008588  ###  0.395139  ###  0.164461\n"
          ]
        }
      ]
    },
    {
      "cell_type": "code",
      "source": [
        "def custom_accuracy(y_true, y_pred):\n",
        "    #  Mean Absolute Error\n",
        "    mae = tf.reduce_mean(tf.abs(y_true - y_pred))\n",
        "    return mae"
      ],
      "metadata": {
        "id": "GMpYT2EBzjQs"
      },
      "execution_count": 116,
      "outputs": []
    },
    {
      "cell_type": "code",
      "source": [
        "num_samples = angles_data.shape[0]\n",
        "data_size   = angles_data.shape[1]\n",
        "input_size  = 3\n",
        "output_size = 2\n",
        "\n",
        "model = Sequential()\n",
        "#model.add(Dense(32, input_shape=(data_size, input_size), activation='relu'))\n",
        "model.add(Dense(32, input_shape=(None, input_size), activation='relu'))\n",
        "model.add(Dense(64, activation='relu'))  # Additional hidden layer\n",
        "model.add(SelfAttention())               # Scaled Dot-Product Attention with self-attention\n",
        "model.add(Dense(output_size, activation='linear'))  # Linear activation for regression\n",
        "\n",
        "\n",
        "optimizer = tf.keras.optimizers.Adam(learning_rate=0.001)\n",
        "\n",
        "model.compile(optimizer='adam', loss=custom_loss)\n",
        "model.summary()"
      ],
      "metadata": {
        "colab": {
          "base_uri": "https://localhost:8080/"
        },
        "id": "Yz5JtjgCogha",
        "outputId": "babd89ed-21fd-41c5-fc43-978deaa4904a"
      },
      "execution_count": 117,
      "outputs": [
        {
          "output_type": "stream",
          "name": "stdout",
          "text": [
            "Model: \"sequential_6\"\n",
            "_________________________________________________________________\n",
            " Layer (type)                Output Shape              Param #   \n",
            "=================================================================\n",
            " dense_33 (Dense)            (None, None, 32)          128       \n",
            "                                                                 \n",
            " dense_34 (Dense)            (None, None, 64)          2112      \n",
            "                                                                 \n",
            " self_attention_11 (SelfAtt  (None, None, 64)          8192      \n",
            " ention)                                                         \n",
            "                                                                 \n",
            " dense_35 (Dense)            (None, None, 2)           130       \n",
            "                                                                 \n",
            "=================================================================\n",
            "Total params: 10562 (41.26 KB)\n",
            "Trainable params: 10562 (41.26 KB)\n",
            "Non-trainable params: 0 (0.00 Byte)\n",
            "_________________________________________________________________\n"
          ]
        }
      ]
    },
    {
      "cell_type": "code",
      "source": [
        "test_data = np.random.rand(32, 10, 3)  # Assuming batch=32, sequence length=10, features=3\n",
        "\n",
        "test_data_tf = tf.constant(test_data, dtype=tf.float32)\n",
        "\n",
        "predictions = model.predict(test_data_tf)\n",
        "\n",
        "print(\"Input Shape:\", test_data.shape)\n",
        "print(\"Output Shape:\", predictions.shape)"
      ],
      "metadata": {
        "colab": {
          "base_uri": "https://localhost:8080/"
        },
        "id": "2X5c44Qno9sJ",
        "outputId": "860400aa-e97b-45e9-e587-a7dd198c6198"
      },
      "execution_count": 118,
      "outputs": [
        {
          "output_type": "stream",
          "name": "stderr",
          "text": [
            "WARNING:tensorflow:6 out of the last 6 calls to <function Model.make_predict_function.<locals>.predict_function at 0x7c04b1cba8c0> triggered tf.function retracing. Tracing is expensive and the excessive number of tracings could be due to (1) creating @tf.function repeatedly in a loop, (2) passing tensors with different shapes, (3) passing Python objects instead of tensors. For (1), please define your @tf.function outside of the loop. For (2), @tf.function has reduce_retracing=True option that can avoid unnecessary retracing. For (3), please refer to https://www.tensorflow.org/guide/function#controlling_retracing and https://www.tensorflow.org/api_docs/python/tf/function for  more details.\n"
          ]
        },
        {
          "output_type": "stream",
          "name": "stdout",
          "text": [
            "1/1 [==============================] - 0s 70ms/step\n",
            "Input Shape: (32, 10, 3)\n",
            "Output Shape: (32, 10, 2)\n"
          ]
        }
      ]
    },
    {
      "cell_type": "code",
      "source": [
        "class MyCustomModel(Model):\n",
        "    def __init__(self, input_size, output_size):\n",
        "        super(MyCustomModel, self).__init__()\n",
        "        self.dense1 = Dense(32, activation='relu')\n",
        "        self.dense2 = Dense(64, activation='relu')\n",
        "        self.self_attention = SelfAttention()\n",
        "        self.output_layer = Dense(output_size, activation='linear')\n",
        "\n",
        "    def call(self, inputs):\n",
        "        x = self.dense1(inputs)\n",
        "        x = self.dense2(x)\n",
        "        x = self.self_attention(x)\n",
        "        return self.output_layer(x)"
      ],
      "metadata": {
        "id": "xcPUJc1UlHXL"
      },
      "execution_count": 119,
      "outputs": []
    },
    {
      "cell_type": "code",
      "source": [
        "model2 = MyCustomModel(input_size=3, output_size=2)\n",
        "model2.compile(optimizer=optimizer, loss=custom_loss)\n",
        "#model2.summary()"
      ],
      "metadata": {
        "id": "ey__Ds54pdbG"
      },
      "execution_count": 120,
      "outputs": []
    },
    {
      "cell_type": "code",
      "source": [],
      "metadata": {
        "id": "g4QlIumVpdWw"
      },
      "execution_count": 120,
      "outputs": []
    },
    {
      "cell_type": "code",
      "source": [],
      "metadata": {
        "id": "wLpIHtTKpdTi"
      },
      "execution_count": 120,
      "outputs": []
    },
    {
      "cell_type": "code",
      "source": [
        "checkpoint_path = \"/content/drive/MyDrive/SL_data/model_checkpoint.h5\"\n",
        "early_stopping   = EarlyStopping(monitor='val_loss', patience=3, restore_best_weights=True)\n",
        "model_checkpoint = ModelCheckpoint(checkpoint_path, monitor='val_loss', save_best_only=True)\n"
      ],
      "metadata": {
        "id": "BBJJDCC8pdLc"
      },
      "execution_count": 121,
      "outputs": []
    },
    {
      "cell_type": "code",
      "source": [
        "train_loss_history = []\n",
        "valid_loss_history = []\n",
        "epochs             = 10"
      ],
      "metadata": {
        "id": "iTrKgNY5j3X4"
      },
      "execution_count": 122,
      "outputs": []
    },
    {
      "cell_type": "code",
      "source": [
        "@tf.function(reduce_retracing=True)\n",
        "def train_step(batch_angles, batch_banks, batch_weights):\n",
        "    total_loss = 0\n",
        "\n",
        "    with tf.GradientTape() as tape:\n",
        "        X      = batch_angles[:, :, :3]\n",
        "        y_true = batch_angles[:, :, 3:]\n",
        "\n",
        "        y_predict = model(X)\n",
        "        loss = custom_loss(y_predict, y_true, batch_banks, batch_weights)\n",
        "\n",
        "    gradients = tape.gradient(loss, model.trainable_variables)\n",
        "    model.optimizer.apply_gradients(zip(gradients, model.trainable_variables))\n",
        "\n",
        "    return loss\n",
        "\n",
        "\n",
        "@tf.function(reduce_retracing=True)\n",
        "def validate_step(batch_angles, batch_banks, batch_weights):\n",
        "    X      = batch_angles[:, :, :3]\n",
        "    y_true = batch_angles[:, :, 3:]\n",
        "\n",
        "    y_predict = model(X)\n",
        "    loss = custom_loss(y_predict, y_true, batch_banks, batch_weights)\n",
        "\n",
        "    return loss\n"
      ],
      "metadata": {
        "id": "QLkpgTzXQcsI"
      },
      "execution_count": 123,
      "outputs": []
    },
    {
      "cell_type": "code",
      "source": [
        "for epoch in range(epochs):\n",
        "\n",
        "    total_train_loss = 0\n",
        "    for batch_index, (batch_angles, batch_banks, batch_weights) in enumerate(train_dataset):\n",
        "        print(f\"Training Batch Index: {batch_index + 1} / {len(train_dataset)}\", end='\\r')\n",
        "        loss = train_step(batch_angles, batch_banks, batch_weights)\n",
        "        total_train_loss += loss.numpy()\n",
        "\n",
        "    total_valid_loss = 0\n",
        "    for batch_angles, batch_banks, batch_weights in valid_dataset:\n",
        "        loss = validate_step(batch_angles, batch_banks, batch_weights)\n",
        "        total_valid_loss += loss.numpy()\n",
        "\n",
        "    avg_train_loss = total_train_loss / len(train_dataset)\n",
        "    avg_valid_loss = total_valid_loss / len(valid_dataset)\n",
        "\n",
        "    train_loss_history.append(avg_train_loss)\n",
        "    valid_loss_history.append(avg_valid_loss)\n",
        "\n",
        "    print(f'Epoch {epoch + 1}/{epochs}, '\n",
        "          f'Training   Loss: {avg_train_loss:.6f}, '\n",
        "          f'Validation Loss: {avg_valid_loss:.6f}, ')\n",
        "\n",
        "    # Print additional information for debugging\n",
        "    #print(\"True Values:\", y_true[0].numpy())\n",
        "    #print(\"Predicted Values:\", model(X)[0].numpy())\n",
        "\n",
        "    #Evaluate early stopping criteria\n",
        "    #if early_stopping.on_epoch_end(epoch + 1, {'val_loss': avg_val_loss}):\n",
        "    #    print(\"Early stopping triggered.\")\n",
        "    #    break"
      ],
      "metadata": {
        "colab": {
          "base_uri": "https://localhost:8080/"
        },
        "id": "sHpRidekRFN4",
        "outputId": "46f3142f-b239-451a-a890-07043230cd3b"
      },
      "execution_count": 125,
      "outputs": [
        {
          "output_type": "stream",
          "name": "stdout",
          "text": [
            "Epoch 1/10, Training   Loss: 0.920439, Validation Loss: 0.935443, \n",
            "Epoch 2/10, Training   Loss: 0.920439, Validation Loss: 0.935443, \n",
            "Epoch 3/10, Training   Loss: 0.920439, Validation Loss: 0.935443, \n",
            "Epoch 4/10, Training   Loss: 0.920439, Validation Loss: 0.935443, \n",
            "Epoch 5/10, Training   Loss: 0.920439, Validation Loss: 0.935443, \n",
            "Epoch 6/10, Training   Loss: 0.920439, Validation Loss: 0.935443, \n",
            "Epoch 7/10, Training   Loss: 0.920439, Validation Loss: 0.935443, \n",
            "Epoch 8/10, Training   Loss: 0.920439, Validation Loss: 0.935443, \n",
            "Epoch 9/10, Training   Loss: 0.920439, Validation Loss: 0.935443, \n",
            "Epoch 10/10, Training   Loss: 0.920439, Validation Loss: 0.935443, \n"
          ]
        }
      ]
    },
    {
      "cell_type": "code",
      "source": [
        "plt.figure(figsize=(6, 5))\n",
        "plt.plot(train_loss_history)\n",
        "plt.plot(valid_loss_history)\n",
        "plt.title('Model Loss')\n",
        "plt.xlabel('Epoch')\n",
        "plt.ylabel('Loss')\n",
        "plt.legend(['Train', 'Validation'], loc='upper left')\n",
        "plt.show()"
      ],
      "metadata": {
        "id": "J-4C86d2vhnP",
        "colab": {
          "base_uri": "https://localhost:8080/",
          "height": 487
        },
        "outputId": "e1291164-e7da-495b-b57d-21f6e4fa14e2"
      },
      "execution_count": 126,
      "outputs": [
        {
          "output_type": "display_data",
          "data": {
            "text/plain": [
              "<Figure size 600x500 with 1 Axes>"
            ],
            "image/png": "[encoded data removed]"
          },
          "metadata": {}
        }
      ]
    },
    {
      "cell_type": "code",
      "source": [
        "# Load the best model weights\n",
        "#model.load_weights(checkpoint_path)\n",
        "\n",
        "# Save the final model\n",
        "#final_model_path = \"/content/drive/MyDrive/SL_data/final_model.h5\"\n",
        "#model.save(final_model_path)"
      ],
      "metadata": {
        "id": "bswQaV4yazQR"
      },
      "execution_count": null,
      "outputs": []
    }
  ]
}